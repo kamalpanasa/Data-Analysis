{
 "cells": [
  {
   "cell_type": "markdown",
   "id": "6eee36d4",
   "metadata": {},
   "source": [
    "Pandas – Data Analysis Library\n",
    "# 1. Why Learn Pandas?\n",
    "### What is it?\n",
    "Pandas is a Python library for data manipulation and analysis. It provides Series (1D) and DataFrames (2D tabular data).\n",
    "### Why we need it?\n",
    "\n",
    "1.Simplifies data cleaning, exploration, and manipulation.\n",
    "\n",
    "2.Handles large datasets efficiently.\n",
    "\n",
    "3.Built on top of NumPy for fast computations.\n",
    "\n",
    "#### Applications\n",
    "\n",
    "1.Data Analysis & Reporting\n",
    "\n",
    "2.Machine Learning (preprocessing datasets)\n",
    "\n",
    "3.Finance, Healthcare, Marketing data analysis\n",
    "\n",
    "4.CSV/Excel/SQL data handling"
   ]
  },
  {
   "cell_type": "code",
   "execution_count": 4,
   "id": "30e55c61",
   "metadata": {},
   "outputs": [],
   "source": [
    "import pandas as pd"
   ]
  },
  {
   "cell_type": "markdown",
   "id": "7b16fd2a",
   "metadata": {},
   "source": [
    "# 2.Series"
   ]
  },
  {
   "cell_type": "code",
   "execution_count": 5,
   "id": "aa6a97db",
   "metadata": {},
   "outputs": [
    {
     "name": "stdout",
     "output_type": "stream",
     "text": [
      "Series:\n",
      " 0    10\n",
      "1    20\n",
      "2    30\n",
      "3    40\n",
      "dtype: int64\n"
     ]
    }
   ],
   "source": [
    "s = pd.Series([10, 20, 30, 40]) \n",
    "print(\"Series:\\n\", s) "
   ]
  },
  {
   "cell_type": "markdown",
   "id": "306f00c3",
   "metadata": {},
   "source": [
    "# 3.DataFrame from dict"
   ]
  },
  {
   "cell_type": "code",
   "execution_count": 6,
   "id": "d6c3aea3",
   "metadata": {},
   "outputs": [
    {
     "name": "stdout",
     "output_type": "stream",
     "text": [
      "\n",
      "DataFrame:\n",
      "       Name  Age\n",
      "0    Alice   25\n",
      "1      Bob   30\n",
      "2  Charlie   35\n"
     ]
    }
   ],
   "source": [
    "data = {'Name': ['Alice','Bob','Charlie'], 'Age':[25,30,35]} \n",
    "df = pd.DataFrame(data) \n",
    "print(\"\\nDataFrame:\\n\", df)"
   ]
  },
  {
   "cell_type": "markdown",
   "id": "2d4effb5",
   "metadata": {},
   "source": [
    "# 4. Reading & Exploring Data"
   ]
  },
  {
   "cell_type": "code",
   "execution_count": 7,
   "id": "47677d2b",
   "metadata": {},
   "outputs": [
    {
     "name": "stdout",
     "output_type": "stream",
     "text": [
      "   age  sex  cp  trestbps  chol  fbs  restecg  thalach  exang  oldpeak  slope  \\\n",
      "0   52    1   0       125   212    0        1      168      0      1.0      2   \n",
      "1   53    1   0       140   203    1        0      155      1      3.1      0   \n",
      "2   70    1   0       145   174    0        1      125      1      2.6      0   \n",
      "3   61    1   0       148   203    0        1      161      0      0.0      2   \n",
      "4   62    0   0       138   294    1        1      106      0      1.9      1   \n",
      "\n",
      "   ca  thal  target  \n",
      "0   2     3       0  \n",
      "1   0     3       0  \n",
      "2   0     3       0  \n",
      "3   1     3       0  \n",
      "4   3     2       0  \n",
      "      age  sex  cp  trestbps  chol  fbs  restecg  thalach  exang  oldpeak  \\\n",
      "1020   59    1   1       140   221    0        1      164      1      0.0   \n",
      "1021   60    1   0       125   258    0        0      141      1      2.8   \n",
      "1022   47    1   0       110   275    0        0      118      1      1.0   \n",
      "1023   50    0   0       110   254    0        0      159      0      0.0   \n",
      "1024   54    1   0       120   188    0        1      113      0      1.4   \n",
      "\n",
      "      slope  ca  thal  target  \n",
      "1020      2   0     2       1  \n",
      "1021      1   1     3       0  \n",
      "1022      1   1     2       0  \n",
      "1023      2   0     2       1  \n",
      "1024      1   1     3       0  \n",
      "<class 'pandas.core.frame.DataFrame'>\n",
      "RangeIndex: 1025 entries, 0 to 1024\n",
      "Data columns (total 14 columns):\n",
      " #   Column    Non-Null Count  Dtype  \n",
      "---  ------    --------------  -----  \n",
      " 0   age       1025 non-null   int64  \n",
      " 1   sex       1025 non-null   int64  \n",
      " 2   cp        1025 non-null   int64  \n",
      " 3   trestbps  1025 non-null   int64  \n",
      " 4   chol      1025 non-null   int64  \n",
      " 5   fbs       1025 non-null   int64  \n",
      " 6   restecg   1025 non-null   int64  \n",
      " 7   thalach   1025 non-null   int64  \n",
      " 8   exang     1025 non-null   int64  \n",
      " 9   oldpeak   1025 non-null   float64\n",
      " 10  slope     1025 non-null   int64  \n",
      " 11  ca        1025 non-null   int64  \n",
      " 12  thal      1025 non-null   int64  \n",
      " 13  target    1025 non-null   int64  \n",
      "dtypes: float64(1), int64(13)\n",
      "memory usage: 112.2 KB\n",
      "None\n",
      "               age          sex           cp     trestbps        chol  \\\n",
      "count  1025.000000  1025.000000  1025.000000  1025.000000  1025.00000   \n",
      "mean     54.434146     0.695610     0.942439   131.611707   246.00000   \n",
      "std       9.072290     0.460373     1.029641    17.516718    51.59251   \n",
      "min      29.000000     0.000000     0.000000    94.000000   126.00000   \n",
      "25%      48.000000     0.000000     0.000000   120.000000   211.00000   \n",
      "50%      56.000000     1.000000     1.000000   130.000000   240.00000   \n",
      "75%      61.000000     1.000000     2.000000   140.000000   275.00000   \n",
      "max      77.000000     1.000000     3.000000   200.000000   564.00000   \n",
      "\n",
      "               fbs      restecg      thalach        exang      oldpeak  \\\n",
      "count  1025.000000  1025.000000  1025.000000  1025.000000  1025.000000   \n",
      "mean      0.149268     0.529756   149.114146     0.336585     1.071512   \n",
      "std       0.356527     0.527878    23.005724     0.472772     1.175053   \n",
      "min       0.000000     0.000000    71.000000     0.000000     0.000000   \n",
      "25%       0.000000     0.000000   132.000000     0.000000     0.000000   \n",
      "50%       0.000000     1.000000   152.000000     0.000000     0.800000   \n",
      "75%       0.000000     1.000000   166.000000     1.000000     1.800000   \n",
      "max       1.000000     2.000000   202.000000     1.000000     6.200000   \n",
      "\n",
      "             slope           ca         thal       target  \n",
      "count  1025.000000  1025.000000  1025.000000  1025.000000  \n",
      "mean      1.385366     0.754146     2.323902     0.513171  \n",
      "std       0.617755     1.030798     0.620660     0.500070  \n",
      "min       0.000000     0.000000     0.000000     0.000000  \n",
      "25%       1.000000     0.000000     2.000000     0.000000  \n",
      "50%       1.000000     0.000000     2.000000     1.000000  \n",
      "75%       2.000000     1.000000     3.000000     1.000000  \n",
      "max       2.000000     4.000000     3.000000     1.000000  \n",
      "(1025, 14)\n"
     ]
    }
   ],
   "source": [
    "# Read CSV (replace with your file path)\n",
    "df = pd.read_csv(\"heart.csv\")\n",
    "\n",
    "# df = pd.DataFrame(data)\n",
    " \n",
    "# Explore\n",
    "print(df.head())\n",
    "print(df.tail())\n",
    "print(df.info())\n",
    "print(df.describe())\n",
    "print(df.shape)"
   ]
  },
  {
   "cell_type": "markdown",
   "id": "e4d78642",
   "metadata": {},
   "source": [
    "5. Selecting Columns & Rows"
   ]
  },
  {
   "cell_type": "code",
   "execution_count": 8,
   "id": "5cf076bf",
   "metadata": {},
   "outputs": [
    {
     "name": "stdout",
     "output_type": "stream",
     "text": [
      "0       52\n",
      "1       53\n",
      "2       70\n",
      "3       61\n",
      "4       62\n",
      "        ..\n",
      "1020    59\n",
      "1021    60\n",
      "1022    47\n",
      "1023    50\n",
      "1024    54\n",
      "Name: age, Length: 1025, dtype: int64\n",
      "      age  fbs\n",
      "0      52    0\n",
      "1      53    1\n",
      "2      70    0\n",
      "3      61    0\n",
      "4      62    1\n",
      "...   ...  ...\n",
      "1020   59    0\n",
      "1021   60    0\n",
      "1022   47    0\n",
      "1023   50    0\n",
      "1024   54    0\n",
      "\n",
      "[1025 rows x 2 columns]\n",
      "age          52.0\n",
      "sex           1.0\n",
      "cp            0.0\n",
      "trestbps    125.0\n",
      "chol        212.0\n",
      "fbs           0.0\n",
      "restecg       1.0\n",
      "thalach     168.0\n",
      "exang         0.0\n",
      "oldpeak       1.0\n",
      "slope         2.0\n",
      "ca            2.0\n",
      "thal          3.0\n",
      "target        0.0\n",
      "Name: 0, dtype: float64\n",
      "age          52.0\n",
      "sex           1.0\n",
      "cp            0.0\n",
      "trestbps    125.0\n",
      "chol        212.0\n",
      "fbs           0.0\n",
      "restecg       1.0\n",
      "thalach     168.0\n",
      "exang         0.0\n",
      "oldpeak       1.0\n",
      "slope         2.0\n",
      "ca            2.0\n",
      "thal          3.0\n",
      "target        0.0\n",
      "Name: 0, dtype: float64\n",
      "   age  sex\n",
      "0   52    1\n",
      "1   53    1\n"
     ]
    }
   ],
   "source": [
    "# Select column\n",
    "print(df['age'])\n",
    " \n",
    "# Select multiple columns\n",
    "print(df[['age','fbs']])\n",
    " \n",
    "# Select row by index\n",
    "print(df.iloc[0])       # first row\n",
    "print(df.loc[0])        # first row using label\n",
    " \n",
    "# Select subset of rows and columns\n",
    "print(df.loc[0:1, ['age','sex']])"
   ]
  },
  {
   "cell_type": "markdown",
   "id": "7a564685",
   "metadata": {},
   "source": [
    "6.Filtering & Sorting\n",
    "\n",
    " "
   ]
  },
  {
   "cell_type": "code",
   "execution_count": 9,
   "id": "4ef2c534",
   "metadata": {},
   "outputs": [
    {
     "name": "stdout",
     "output_type": "stream",
     "text": [
      "   age  sex  cp  trestbps  chol  fbs  restecg  thalach  exang  oldpeak  slope  \\\n",
      "0   52    1   0       125   212    0        1      168      0      1.0      2   \n",
      "1   53    1   0       140   203    1        0      155      1      3.1      0   \n",
      "2   70    1   0       145   174    0        1      125      1      2.6      0   \n",
      "3   61    1   0       148   203    0        1      161      0      0.0      2   \n",
      "4   62    0   0       138   294    1        1      106      0      1.9      1   \n",
      "\n",
      "   ca  thal  target  \n",
      "0   2     3       0  \n",
      "1   0     3       0  \n",
      "2   0     3       0  \n",
      "3   1     3       0  \n",
      "4   3     2       0  \n",
      "     age  sex  cp  trestbps  chol  fbs  restecg  thalach  exang  oldpeak  \\\n",
      "160   77    1   0       125   304    0        0      162      1      0.0   \n",
      "387   77    1   0       125   304    0        0      162      1      0.0   \n",
      "162   77    1   0       125   304    0        0      162      1      0.0   \n",
      "965   76    0   2       140   197    0        2      116      0      1.1   \n",
      "99    76    0   2       140   197    0        2      116      0      1.1   \n",
      "\n",
      "     slope  ca  thal  target  \n",
      "160      2   3     2       0  \n",
      "387      2   3     2       0  \n",
      "162      2   3     2       0  \n",
      "965      1   0     2       1  \n",
      "99       1   0     2       1  \n"
     ]
    }
   ],
   "source": [
    "#Filter rows\n",
    "\n",
    "print(df[df['age'] > 28].head(5))\n",
    " \n",
    "#Sort by Age and\n",
    "\n",
    "print(df.sort_values('age', ascending=False).head(5))"
   ]
  },
  {
   "cell_type": "markdown",
   "id": "86ace851",
   "metadata": {},
   "source": [
    "7. Adding & Removing Columns"
   ]
  },
  {
   "cell_type": "code",
   "execution_count": 10,
   "id": "a3790e72",
   "metadata": {},
   "outputs": [
    {
     "name": "stdout",
     "output_type": "stream",
     "text": [
      "   age  sex  cp  trestbps  chol  fbs  restecg  thalach  exang  oldpeak  slope  \\\n",
      "0   52    1   0       125   212    0        1      168      0      1.0      2   \n",
      "1   53    1   0       140   203    1        0      155      1      3.1      0   \n",
      "2   70    1   0       145   174    0        1      125      1      2.6      0   \n",
      "3   61    1   0       148   203    0        1      161      0      0.0      2   \n",
      "4   62    0   0       138   294    1        1      106      0      1.9      1   \n",
      "\n",
      "   ca  thal  target  Age_in_5yrs  \n",
      "0   2     3       0           57  \n",
      "1   0     3       0           58  \n",
      "2   0     3       0           75  \n",
      "3   1     3       0           66  \n",
      "4   3     2       0           67  \n",
      "   age  sex  cp  trestbps  chol  fbs  restecg  thalach  exang  oldpeak  slope  \\\n",
      "0   52    1   0       125   212    0        1      168      0      1.0      2   \n",
      "1   53    1   0       140   203    1        0      155      1      3.1      0   \n",
      "2   70    1   0       145   174    0        1      125      1      2.6      0   \n",
      "3   61    1   0       148   203    0        1      161      0      0.0      2   \n",
      "4   62    0   0       138   294    1        1      106      0      1.9      1   \n",
      "\n",
      "   ca  thal  target  \n",
      "0   2     3       0  \n",
      "1   0     3       0  \n",
      "2   0     3       0  \n",
      "3   1     3       0  \n",
      "4   3     2       0  \n"
     ]
    }
   ],
   "source": [
    "# Add new column\n",
    "df['Age_in_5yrs'] = df['age'] + 5\n",
    "print(df.head(5))\n",
    " \n",
    "# Drop column\n",
    "df = df.drop('Age_in_5yrs', axis=1).head(5)\n",
    "print(df)"
   ]
  },
  {
   "cell_type": "markdown",
   "id": "92841d67",
   "metadata": {},
   "source": [
    "8. GroupBy & Aggregation"
   ]
  },
  {
   "cell_type": "code",
   "execution_count": 11,
   "id": "a59a922b",
   "metadata": {},
   "outputs": [
    {
     "name": "stdout",
     "output_type": "stream",
     "text": [
      "         Score\n",
      "Name          \n",
      "Alice     82.5\n",
      "Bob       80.0\n",
      "Charlie   95.0\n"
     ]
    }
   ],
   "source": [
    "data = {'Name':['Alice','Bob','Charlie','Alice','Bob'],'Score':[85,90,95,80,70]}\n",
    "df = pd.DataFrame(data)\n",
    " \n",
    "# Group by Name and calculate mean score\n",
    "grouped = df.groupby('Name').mean()\n",
    "print(grouped)"
   ]
  },
  {
   "cell_type": "markdown",
   "id": "f72d7a1d",
   "metadata": {},
   "source": [
    "9. Handling Missing Data"
   ]
  },
  {
   "cell_type": "code",
   "execution_count": 12,
   "id": "f891ca7f",
   "metadata": {},
   "outputs": [
    {
     "name": "stdout",
     "output_type": "stream",
     "text": [
      "       age  sex  cp  trestbps  chol  fbs  restecg  thalach  exang  oldpeak  \\\n",
      "0     52.0    1   0       125   212    0        1      168      0      1.0   \n",
      "1     53.0    1   0       140   203    1        0      155      1      3.1   \n",
      "2     70.0    1   0       145   174    0        1      125      1      2.6   \n",
      "3     61.0    1   0       148   203    0        1      161      0      0.0   \n",
      "4     62.0    0   0       138   294    1        1      106      0      1.9   \n",
      "...    ...  ...  ..       ...   ...  ...      ...      ...    ...      ...   \n",
      "1020   NaN    1   1       140   221    0        1      164      1      0.0   \n",
      "1021   NaN    1   0       125   258    0        0      141      1      2.8   \n",
      "1022   NaN    1   0       110   275    0        0      118      1      1.0   \n",
      "1023   NaN    0   0       110   254    0        0      159      0      0.0   \n",
      "1024   NaN    1   0       120   188    0        1      113      0      1.4   \n",
      "\n",
      "      slope  ca  thal  target  \n",
      "0         2   2     3       0  \n",
      "1         0   0     3       0  \n",
      "2         0   0     3       0  \n",
      "3         2   1     3       0  \n",
      "4         1   3     2       0  \n",
      "...     ...  ..   ...     ...  \n",
      "1020      2   0     2       1  \n",
      "1021      1   1     3       0  \n",
      "1022      1   1     2       0  \n",
      "1023      2   0     2       1  \n",
      "1024      1   1     3       0  \n",
      "\n",
      "[1025 rows x 14 columns]\n"
     ]
    }
   ],
   "source": [
    "# Fill missing value\n",
    "df = pd.read_csv(\"heart.csv\")\n",
    "df['age'] = df['age'].fillna(df['age'].mean()).head(5)\n",
    "print(df)\n"
   ]
  }
 ],
 "metadata": {
  "kernelspec": {
   "display_name": "base",
   "language": "python",
   "name": "python3"
  },
  "language_info": {
   "codemirror_mode": {
    "name": "ipython",
    "version": 3
   },
   "file_extension": ".py",
   "mimetype": "text/x-python",
   "name": "python",
   "nbconvert_exporter": "python",
   "pygments_lexer": "ipython3",
   "version": "3.13.5"
  }
 },
 "nbformat": 4,
 "nbformat_minor": 5
}
